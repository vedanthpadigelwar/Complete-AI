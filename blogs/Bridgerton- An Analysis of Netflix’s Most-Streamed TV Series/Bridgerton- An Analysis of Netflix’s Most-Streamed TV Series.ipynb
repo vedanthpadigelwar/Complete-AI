{
 "cells": [
  {
   "cell_type": "markdown",
   "metadata": {},
   "source": [
    "# References:\n",
    "\n",
    "Article Bridgerton: An Analysis of Netflix’s Most-Streamed TV Series:\n",
    "https://towardsdatascience.com/bridgerton-an-analysis-of-netflixs-most-streamed-tv-series-c4c9e2926397\n",
    "\n",
    "Analysis of over 300,000 tweets on the Bridgerton TV series using NLP techniques in Python & Tableau"
   ]
  },
  {
   "cell_type": "markdown",
   "metadata": {},
   "source": [
    "# Things to find out about the TV series:\n",
    "Most popular Bridgerton hashtag\n",
    "Most talked-about Bridgerton characters\n",
    "General Viewers’ perception of Bridgerton\n",
    "Common words used in tweets about Bridgerton\n",
    "Which country tweeted most about Bridgerton and more"
   ]
  },
  {
   "cell_type": "markdown",
   "metadata": {},
   "source": [
    "![](steps.png)"
   ]
  },
  {
   "cell_type": "code",
   "execution_count": null,
   "metadata": {},
   "outputs": [],
   "source": []
  }
 ],
 "metadata": {
  "kernelspec": {
   "display_name": "Python 3",
   "language": "python",
   "name": "python3"
  },
  "language_info": {
   "codemirror_mode": {
    "name": "ipython",
    "version": 3
   },
   "file_extension": ".py",
   "mimetype": "text/x-python",
   "name": "python",
   "nbconvert_exporter": "python",
   "pygments_lexer": "ipython3",
   "version": "3.8.5"
  }
 },
 "nbformat": 4,
 "nbformat_minor": 4
}
